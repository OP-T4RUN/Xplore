{
  "nbformat": 4,
  "nbformat_minor": 0,
  "metadata": {
    "colab": {
      "provenance": []
    },
    "kernelspec": {
      "name": "python3",
      "display_name": "Python 3"
    },
    "language_info": {
      "name": "python"
    }
  },
  "cells": [
    {
      "cell_type": "markdown",
      "source": [
        "# **Task 1**\n",
        "\n",
        "Your goal is to find the answer of the dot product of the matrices of sizes (2,3), (3,5), (5,2) and (3,3).\n",
        "\n",
        "## **Workflow:**\n",
        "1. Define the matrices of given sizes.\n",
        "2. Print the matrices.\n",
        "3. Use the np.dot function.\n",
        "4. Print the output at each step.\n",
        "5. Print the result.\n",
        "\n",
        "(Print the shape of matrix always with the matrix)\n"
      ],
      "metadata": {
        "id": "6LkPygla_OXh"
      }
    },
    {
      "cell_type": "code",
      "source": [
        "# Import Numpy\n",
        "import numpy as np"
      ],
      "metadata": {
        "id": "Z8iSVv-r_WkT"
      },
      "execution_count": 3,
      "outputs": []
    },
    {
      "cell_type": "code",
      "source": [
        "# Define the 4 matrices as A,B,C,D\n",
        "A=np.random.randint(1,10,(2,3))\n",
        "B=np.random.randint(1,10,(3,5))\n",
        "C=np.random.randint(1,10,(5,2))\n",
        "D=np.random.randint(1,10,(2,3))\n"
      ],
      "metadata": {
        "id": "r1pVl7LbA1_I"
      },
      "execution_count": null,
      "outputs": []
    },
    {
      "cell_type": "code",
      "source": [
        "# Print the 4 matrices\n",
        "print(A)\n",
        "print(B)\n",
        "print(C)\n",
        "print(D)\n"
      ],
      "metadata": {
        "id": "uJHj_CbhA83b",
        "colab": {
          "base_uri": "https://localhost:8080/"
        },
        "outputId": "697d9223-6a5f-42e1-c3fc-0d249216c4eb"
      },
      "execution_count": null,
      "outputs": [
        {
          "output_type": "stream",
          "name": "stdout",
          "text": [
            "[[5 1 5]\n",
            " [6 5 3]]\n",
            "[[8 1 7 9 4]\n",
            " [1 7 1 1 9]\n",
            " [3 1 5 8 9]]\n",
            "[[2 1]\n",
            " [7 8]\n",
            " [6 9]\n",
            " [3 1]\n",
            " [9 2]]\n",
            "[[2 6 6]\n",
            " [5 8 1]]\n"
          ]
        }
      ]
    },
    {
      "cell_type": "code",
      "source": [
        "# Find the Dot Product of matrices\n",
        "result=np.dot(np.dot(np.dot(A,B),C),D)\n",
        "print(result)\n"
      ],
      "metadata": {
        "id": "MDcD7tOWBMzG",
        "colab": {
          "base_uri": "https://localhost:8080/"
        },
        "outputId": "f202073f-0dc3-4c59-88bc-742cc1ead066"
      },
      "execution_count": null,
      "outputs": [
        {
          "output_type": "stream",
          "name": "stdout",
          "text": [
            "[[ 7917 16926 10101]\n",
            " [10069 21478 12749]]\n"
          ]
        }
      ]
    },
    {
      "cell_type": "markdown",
      "source": [
        "# ValueError: shapes (2,2) and (3,3) not aligned: 2 (dim 1) != 3 (dim 0)\n",
        "\n",
        "Now the task is to define a function named is_compatible() that takes 2 matrices as input and only allows the dot product if the condition number of **columns** in the first matrix (A) matches the number of **rows** in the second matrix (B).\n",
        "\n",
        "Print the ouput if condition is satisfied\n",
        "Else print \"Dimension Error!!\"\n",
        "\n",
        "\n"
      ],
      "metadata": {
        "id": "Rv1D09dyB0eP"
      }
    },
    {
      "cell_type": "code",
      "source": [
        "def is_compatible(A, B):\n",
        "  rowA,colA=A.shape\n",
        "  rowB,colB=B.shape\n",
        "  if (colA==rowB):\n",
        "    print(np.dot(A,B))\n",
        "  else:\n",
        "    print(\"Dimension Error!!\")"
      ],
      "metadata": {
        "id": "RmS0xS8tCjNC"
      },
      "execution_count": null,
      "outputs": []
    },
    {
      "cell_type": "code",
      "source": [
        "# Find Dot product only if the matrices are compatible\n",
        "A=np.random.randint(1,10,(2,3))\n",
        "B=np.random.randint(1,10,(2,3))\n",
        "is_compatible(A,B)\n"
      ],
      "metadata": {
        "id": "ds0XYSZ6E9nl",
        "colab": {
          "base_uri": "https://localhost:8080/"
        },
        "outputId": "f1820e34-b943-4acb-a49a-78cf88d98c8f"
      },
      "execution_count": null,
      "outputs": [
        {
          "output_type": "stream",
          "name": "stdout",
          "text": [
            "Dimension Error!!\n"
          ]
        }
      ]
    },
    {
      "cell_type": "markdown",
      "source": [
        "# **Task 2**\n",
        "\n",
        "Your goal is to define a function that simulates a number-guessing game called \"Up-Down.\" The function, named up_down, should take an integer rounds as input, representing the number of turns the player gets.\n",
        "\n",
        "Game Rules:\n",
        "\n",
        "1. The player inputs a number between 1 and 12 for each round.\n",
        "2. The computer randomly selects a number between 1 and 12.\n",
        "3. The scoring system is as follows:\n",
        "  \n",
        "  a. If computer's guess is less than 7 and the player gains points equivalent to their guess if their guess is also less than 7, otherwise, they lose points equivalent to their guess.\n",
        "  \n",
        "  b. If computer's guess is exactly 7, the player gains 14 points if thier guess is 7, otherwise, they lose points equivalent to their guess.\n",
        "  \n",
        "  c. If computer's guess is greater than 7 and the player gains points equivalent to their guess if their guess is also greater than 7, otherwise, they lose points equivalent to their guess.\n",
        "\n",
        "4. The game continues until:\n",
        "\n",
        "  a. The player reaches more than 30 points, they win.\n",
        "\n",
        "  b. The player reaches less than -30 points, they lose.\n",
        "\n",
        "  c. The maximum number of rounds is reached.\n",
        "  \n",
        "At the end of the game, the function should print the final score.\n",
        "\n",
        "Your task is to implement this function in Python using the given rules."
      ],
      "metadata": {
        "id": "SR_JeHeEdWOX"
      }
    },
    {
      "cell_type": "code",
      "source": [
        "def up_down(rounds):\n",
        "  score=0\n",
        "  while(rounds>0):\n",
        "    human_guess=int(input(\"Enter ur guess:- \"))\n",
        "    computer_guess=np.random.randint(1,13)\n",
        "    if(computer_guess<7):\n",
        "      if(human_guess<7):\n",
        "        score+=human_guess\n",
        "      else:\n",
        "        score-=human_guess\n",
        "    elif(computer_guess==7):\n",
        "      if(human_guess==7):\n",
        "        score+=14\n",
        "      else:\n",
        "        score-=14\n",
        "    else:\n",
        "      if(human_guess>7):\n",
        "        score+=human_guess\n",
        "      else:\n",
        "        score-=human_guess\n",
        "    if(score>30):\n",
        "      print(\"You Won!!\")\n",
        "      break\n",
        "    elif(score<-30):\n",
        "      print(\"You Lost!!\")\n",
        "      break\n",
        "    rounds-=1\n",
        "  print(\"Final score is: \",score)\n",
        "x=int(input(\"Enter number of rounds: \"))\n",
        "up_down(x)\n"
      ],
      "metadata": {
        "id": "0fxnUDma7aPx",
        "colab": {
          "base_uri": "https://localhost:8080/"
        },
        "outputId": "f6cdcc73-cce3-41fa-ca78-f7f03a613719"
      },
      "execution_count": 7,
      "outputs": [
        {
          "output_type": "stream",
          "name": "stdout",
          "text": [
            "Enter number of rounds: 3\n",
            "Enter ur guess:- 2\n",
            "Enter ur guess:- 5\n",
            "Enter ur guess:- 12\n",
            "Final score is:  19\n"
          ]
        }
      ]
    }
  ]
}